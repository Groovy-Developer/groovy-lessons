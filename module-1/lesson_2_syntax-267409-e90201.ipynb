{
 "cells": [
  {
   "cell_type": "markdown",
   "metadata": {},
   "source": [
    "## Groovy summary:\n",
    "\n",
    "- Является си-подобным языком\n",
    "- Используются блоки кода, отделяемые фигурными скобками {}\n",
    "- Окончание инструкций - ;\n",
    "- ; не является обязательной\n",
    "- есть различные виды комментариев как в java"
   ]
  },
  {
   "cell_type": "code",
   "execution_count": null,
   "metadata": {},
   "outputs": [],
   "source": [
    "// one line\n",
    "/*\n",
    "* multy line\n",
    "*/\n",
    "/**\n",
    "* javadoc\n",
    "*/\n",
    "{\n",
    "// some block code\n",
    "}"
   ]
  },
  {
   "cell_type": "markdown",
   "metadata": {},
   "source": [
    "## Переменные\n",
    "\n",
    "- динамическая и статическая типизация\n",
    "- ключевое слово def\n",
    "- в скриптах можно без ключевого слова"
   ]
  },
  {
   "cell_type": "code",
   "execution_count": 2,
   "metadata": {},
   "outputs": [
    {
     "name": "stdout",
     "output_type": "stream",
     "text": [
      "null\n",
      "5\n"
     ]
    },
    {
     "data": {
      "text/plain": [
       "null"
      ]
     },
     "execution_count": 2,
     "metadata": {},
     "output_type": "execute_result"
    }
   ],
   "source": [
    "def a\n",
    "def b = 5\n",
    "println a\n",
    "println b"
   ]
  },
  {
   "cell_type": "code",
   "execution_count": 3,
   "metadata": {},
   "outputs": [
    {
     "name": "stdout",
     "output_type": "stream",
     "text": [
      "5\n"
     ]
    },
    {
     "data": {
      "text/plain": [
       "null"
      ]
     },
     "execution_count": 3,
     "metadata": {},
     "output_type": "execute_result"
    }
   ],
   "source": [
    "c = 5\n",
    "println c"
   ]
  },
  {
   "cell_type": "markdown",
   "metadata": {},
   "source": [
    "## Динамическая типизация"
   ]
  },
  {
   "cell_type": "code",
   "execution_count": 4,
   "metadata": {},
   "outputs": [
    {
     "data": {
      "text/plain": [
       "null"
      ]
     },
     "execution_count": 4,
     "metadata": {},
     "output_type": "execute_result"
    }
   ],
   "source": [
    "def var = 1\n",
    "assert var.class in java.lang.Integer\n",
    "var = 'Hello World'    \n",
    "assert var.class in java.lang.String"
   ]
  },
  {
   "cell_type": "markdown",
   "metadata": {},
   "source": [
    "## Переменные\n",
    "- можно не указывать тип возвращаемого значения\n",
    "- можно не использовать ключевое слово return\n",
    "- можно не указывать типы аргументов\n",
    "\n",
    "! в отличие от python - только позиционные аргументы. Почему?"
   ]
  },
  {
   "cell_type": "code",
   "execution_count": 5,
   "metadata": {},
   "outputs": [
    {
     "name": "stdout",
     "output_type": "stream",
     "text": [
      "5\n"
     ]
    },
    {
     "data": {
      "text/plain": [
       "null"
      ]
     },
     "execution_count": 5,
     "metadata": {},
     "output_type": "execute_result"
    }
   ],
   "source": [
    "def foo() {\n",
    "    5\n",
    "}\n",
    "\n",
    "println foo()"
   ]
  },
  {
   "cell_type": "code",
   "execution_count": 6,
   "metadata": {},
   "outputs": [
    {
     "data": {
      "text/plain": [
       "null"
      ]
     },
     "execution_count": 6,
     "metadata": {},
     "output_type": "execute_result"
    }
   ],
   "source": [
    "def getPi(){\n",
    "     3.14     \n",
    "}\n",
    "assert getPi() in BigDecimal\n",
    "assert getPi() == 3.14"
   ]
  },
  {
   "cell_type": "code",
   "execution_count": null,
   "metadata": {},
   "outputs": [],
   "source": [
    "def foo() {\n",
    "    5\n",
    "}\n",
    "println foo"
   ]
  },
  {
   "cell_type": "code",
   "execution_count": null,
   "metadata": {},
   "outputs": [],
   "source": [
    "def foo(a, b) {\n",
    "    a+b\n",
    "}\n",
    "\n",
    "foo 1 2"
   ]
  },
  {
   "cell_type": "markdown",
   "metadata": {},
   "source": [
    "Когда можно не использовать скобки?\n",
    "\n",
    "Omitting parentheses: http://www.groovy-lang.org/style-guide.html#_omitting_parentheses "
   ]
  },
  {
   "cell_type": "code",
   "execution_count": null,
   "metadata": {},
   "outputs": [],
   "source": [
    "def foo(a) {a}\n",
    "println foo 2 "
   ]
  },
  {
   "cell_type": "markdown",
   "metadata": {},
   "source": [
    "В groovy sdk встроена библиотека assertj (из junit)\n",
    "\n",
    "*Упражнение:* какие есть возможности для сравнения в Groovy?"
   ]
  },
  {
   "cell_type": "code",
   "execution_count": null,
   "metadata": {},
   "outputs": [],
   "source": [
    "def a = 15\n",
    "assert a == '15'\n",
    "assert a == Integer.parseInt('15')"
   ]
  },
  {
   "cell_type": "markdown",
   "metadata": {},
   "source": [
    "Вопрос: почему так можно сделать?"
   ]
  },
  {
   "cell_type": "code",
   "execution_count": 8,
   "metadata": {},
   "outputs": [
    {
     "data": {
      "text/plain": [
       "Hello World"
      ]
     },
     "execution_count": 8,
     "metadata": {},
     "output_type": "execute_result"
    }
   ],
   "source": [
    "def a = 1\n",
    "a = 'Hello World'"
   ]
  },
  {
   "cell_type": "markdown",
   "metadata": {},
   "source": [
    "## Диапазоны\n",
    "\n",
    "Диапазоны (ranges) - это последовательность с началом и концом\n",
    "\n",
    "https://www.logicbig.com/tutorials/misc/groovy/range-operator.html"
   ]
  },
  {
   "cell_type": "code",
   "execution_count": 9,
   "metadata": {},
   "outputs": [
    {
     "name": "stdout",
     "output_type": "stream",
     "text": [
      "[5, 6, 7, 8, 9, 10]\n",
      "7\n"
     ]
    },
    {
     "data": {
      "text/plain": [
       "null"
      ]
     },
     "execution_count": 9,
     "metadata": {},
     "output_type": "execute_result"
    }
   ],
   "source": [
    "def range = 5..10;\n",
    "println(range);\n",
    "println(range.get(2));"
   ]
  },
  {
   "cell_type": "code",
   "execution_count": 10,
   "metadata": {},
   "outputs": [
    {
     "name": "stdout",
     "output_type": "stream",
     "text": [
      "1\n",
      "2\n",
      "3\n",
      "4\n",
      "5\n"
     ]
    },
    {
     "data": {
      "text/plain": [
       "[1, 2, 3, 4, 5]"
      ]
     },
     "execution_count": 10,
     "metadata": {},
     "output_type": "execute_result"
    }
   ],
   "source": [
    "//Using a range with each method\n",
    "(1..5).each{println it}"
   ]
  },
  {
   "cell_type": "markdown",
   "metadata": {},
   "source": [
    "Упражнение: Создать диапазоны чисел от 1 до 10, символов от a до c."
   ]
  },
  {
   "cell_type": "markdown",
   "metadata": {},
   "source": [
    "Упражнение: Что будет результатом?\n",
    "\n",
    "```groovy\n",
    "println(1 ..< 10)\n",
    "```"
   ]
  },
  {
   "cell_type": "markdown",
   "metadata": {},
   "source": [
    "Упражнение: Диапазоны как индексы\n",
    "\n",
    "```groovy\n",
    "a = [1, 2, 3, 4, 5]\n",
    "a[0..2] = ?\n",
    "```"
   ]
  },
  {
   "cell_type": "markdown",
   "metadata": {},
   "source": [
    "Упражнение: В чем разница*?\n",
    "\n",
    "```groovy\n",
    "[1..3]\n",
    "[*1..3] - секционирование (slicing)\n",
    "```"
   ]
  },
  {
   "cell_type": "code",
   "execution_count": 11,
   "metadata": {},
   "outputs": [
    {
     "data": {
      "text/plain": [
       "null"
      ]
     },
     "execution_count": 11,
     "metadata": {},
     "output_type": "execute_result"
    }
   ],
   "source": [
    "//Using a range to create a list (slicing)\n",
    "assert [*1..4] == [1,2,3,4]\n",
    "assert [1,*2..4] == [1,2,3,4]"
   ]
  },
  {
   "cell_type": "code",
   "execution_count": 12,
   "metadata": {},
   "outputs": [
    {
     "data": {
      "text/plain": [
       "null"
      ]
     },
     "execution_count": 12,
     "metadata": {},
     "output_type": "execute_result"
    }
   ],
   "source": [
    "def list = ['Java', 'Groovy', 'Scala']\n",
    "\n",
    "def index = 0\n",
    "def indices = [0,2]\n",
    "def range = (1..-1)\n",
    "\n",
    "assert 'Java' == list[index]\n",
    "assert ['Java', 'Scala'] == list[indices]\n",
    "assert ['Groovy', 'Scala'] == list[range]"
   ]
  },
  {
   "cell_type": "markdown",
   "metadata": {},
   "source": [
    "## Условия и циклы\n",
    "\n",
    "Тернарный оператор\n",
    "```\n",
    "<condition>?<result_true>:<result_false> \n",
    "```\n",
    "Elvis оператор\n",
    "```\n",
    "<condition>?:<result_false> \n",
    "```"
   ]
  },
  {
   "cell_type": "code",
   "execution_count": 13,
   "metadata": {},
   "outputs": [
    {
     "data": {
      "text/plain": []
     },
     "execution_count": 13,
     "metadata": {},
     "output_type": "execute_result"
    }
   ],
   "source": [
    "// Groovy with the Elvis operator\n",
    "String test = null\n",
    "String result2 = test ?: new String()\n",
    "\n",
    "// Java version\n",
    "String user = null;\n",
    "String result1 = user!=null ? user : new String();"
   ]
  },
  {
   "cell_type": "markdown",
   "metadata": {},
   "source": [
    "Упражнение: результат switch-case"
   ]
  },
  {
   "cell_type": "code",
   "execution_count": null,
   "metadata": {},
   "outputs": [],
   "source": [
    "x = 'Groovy'\n",
    "def result = ''\n",
    "switch (x){\n",
    "    case ['1','2','3']: result = 'List'\n",
    "    case Integer: result = 'Integer'\n",
    "    case 'Groovy': result = 'String'\n",
    "    case 'G'..'Y': result = 'Range'\n",
    "    case ~/G.*/: result = 'Pattern'; break\n",
    "    default: result = 'Default'\n",
    "}\n",
    "println(result)"
   ]
  },
  {
   "cell_type": "markdown",
   "metadata": {},
   "source": [
    "## Циклы"
   ]
  },
  {
   "cell_type": "code",
   "execution_count": 14,
   "metadata": {},
   "outputs": [
    {
     "name": "stdout",
     "output_type": "stream",
     "text": [
      "0\n",
      "1\n",
      "2\n",
      "3\n",
      "1\n",
      "2\n",
      "3\n",
      "4\n",
      "5\n",
      "Ken=21\n",
      "John=25\n",
      "Sally=22\n"
     ]
    },
    {
     "data": {
      "text/plain": [
       "null"
      ]
     },
     "execution_count": 14,
     "metadata": {},
     "output_type": "execute_result"
    }
   ],
   "source": [
    "int[] array = [0,1,2,3]; \n",
    "for(int i in array) { \n",
    "    println(i); \n",
    "} \n",
    "\n",
    "for(int i in 1..5) {\n",
    "    println(i);\n",
    "}\n",
    "\n",
    "def employee = [\"Ken\" : 21, \"John\" : 25, \"Sally\" : 22];\n",
    "for(emp in employee) {\n",
    "    println(emp);\n",
    "}"
   ]
  },
  {
   "cell_type": "markdown",
   "metadata": {},
   "source": [
    "## Числа и операторы\n",
    "\n",
    "- все есть объекты\n",
    "- возможно переопределения операторов\n",
    "- \"бесшовное\" преобразование типов (почти)"
   ]
  },
  {
   "cell_type": "code",
   "execution_count": null,
   "metadata": {},
   "outputs": [],
   "source": [
    "assert 3 + null == 3\n",
    "assert 3 > null"
   ]
  },
  {
   "cell_type": "markdown",
   "metadata": {},
   "source": [
    "Оператор безопасного доступа (null safe)\n",
    "```\n",
    "?\n",
    "```"
   ]
  },
  {
   "cell_type": "code",
   "execution_count": null,
   "metadata": {},
   "outputs": [],
   "source": [
    "a = null\n",
    "assert a?.plus(3) == null\n",
    "assert a ?+ 3 == null"
   ]
  },
  {
   "cell_type": "code",
   "execution_count": null,
   "metadata": {},
   "outputs": [],
   "source": [
    "//java.lang.Number\n",
    "def x = 10\n",
    "assert x.abs() == 10 //Returns absolute value\n",
    "assert x.compareTo(3) == 1 //Compares two numbers\n",
    "assert x.div(2) == 5 //Divides two numbers\n",
    "def total = 0\n",
    "x.downto(5) {\n",
    "number -> total += number} //Sums the numbers from 10 to 5 inclusive\n",
    "assert total == 45 \n",
    "total = 0\n",
    "x.upto(15){\n",
    "number -> total += number} //Sums the numbers from 10 to 15 inclusive\n",
    "assert total == 75"
   ]
  },
  {
   "cell_type": "markdown",
   "metadata": {},
   "source": [
    "## Автоматическое преобразование типов"
   ]
  },
  {
   "cell_type": "code",
   "execution_count": 15,
   "metadata": {},
   "outputs": [
    {
     "data": {
      "text/plain": [
       "null"
      ]
     },
     "execution_count": 15,
     "metadata": {},
     "output_type": "execute_result"
    }
   ],
   "source": [
    "int var = 1\n",
    "var = 2.7\n",
    "assert var == 2\n",
    "assert var.class in Integer\n",
    "var = '1' as char\n",
    "assert var == 49\n",
    "assert var.class in Integer"
   ]
  },
  {
   "cell_type": "markdown",
   "metadata": {},
   "source": [
    "## Типобезопасное преобразование"
   ]
  },
  {
   "cell_type": "code",
   "execution_count": 16,
   "metadata": {},
   "outputs": [
    {
     "data": {
      "text/plain": [
       "null"
      ]
     },
     "execution_count": 16,
     "metadata": {},
     "output_type": "execute_result"
    }
   ],
   "source": [
    "def var = 15\n",
    "assert var == Integer.parseInt(\"15\")"
   ]
  },
  {
   "cell_type": "code",
   "execution_count": null,
   "metadata": {},
   "outputs": [],
   "source": [
    "def var = 15\n",
    "assert var == \"15\""
   ]
  },
  {
   "cell_type": "markdown",
   "metadata": {},
   "source": [
    "## Практика (+ДЗ)\n",
    "\n",
    "### Римские цифры\n",
    "\n",
    "Римские цифры: переопределить оператор ++ для римских цифр от 1 до 9.\n",
    "\n",
    "ДЗ: переопределить оператор +\n",
    "\n",
    "### Операции с матрицами\n",
    "\n",
    "Реализовать перемножение матриц и умножение матрицы на число"
   ]
  },
  {
   "cell_type": "code",
   "execution_count": null,
   "metadata": {},
   "outputs": [],
   "source": [
    "def number = new RomanNumber(\"II\");\n",
    "println  \"Number: $number\"\n",
    "number++;\n",
    "assert number == new RomanNumber(\"III\")\n",
    "println  \"After incrementing: $number\"\n",
    "number++;\n",
    "assert number == new RomanNumber(\"IV\")\n",
    "println  \"After incrementing: $number\""
   ]
  }
 ],
 "metadata": {
  "kernelspec": {
   "display_name": "Groovy",
   "language": "groovy",
   "name": "groovy"
  },
  "language_info": {
   "codemirror_mode": "groovy",
   "file_extension": ".groovy",
   "mimetype": "",
   "name": "Groovy",
   "nbconverter_exporter": "",
   "version": "2.4.3"
  },
  "toc": {
   "base_numbering": 1,
   "nav_menu": {},
   "number_sections": false,
   "sideBar": false,
   "skip_h1_title": false,
   "title_cell": "Table of Contents",
   "title_sidebar": "Contents",
   "toc_cell": false,
   "toc_position": {},
   "toc_section_display": false,
   "toc_window_display": false
  }
 },
 "nbformat": 4,
 "nbformat_minor": 2
}
